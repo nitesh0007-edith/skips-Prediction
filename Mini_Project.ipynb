{
 "cells": [
  {
   "cell_type": "code",
   "execution_count": 1,
   "metadata": {},
   "outputs": [],
   "source": [
    "import numpy as np \n",
    "import pandas as pd\n",
    "import seaborn as sns\n",
    "import matplotlib.pyplot as plt\n",
    "%matplotlib inline"
   ]
  },
  {
   "cell_type": "code",
   "execution_count": 2,
   "metadata": {},
   "outputs": [
    {
     "name": "stderr",
     "output_type": "stream",
     "text": [
      "C:\\Users\\vatsa\\anaconda3\\lib\\site-packages\\IPython\\core\\interactiveshell.py:3071: DtypeWarning: Columns (3,4,5,6,7,14,16,17,18,19,20) have mixed types.Specify dtype option on import or set low_memory=False.\n",
      "  has_raised = await self.run_ast_nodes(code_ast.body, cell_name,\n"
     ]
    }
   ],
   "source": [
    "#Loaidng the datasets\n",
    "df = pd.read_csv('technocolabs training set.csv')\n",
    "feat = pd.read_csv('tf_000000000000.csv')"
   ]
  },
  {
   "cell_type": "code",
   "execution_count": 3,
   "metadata": {},
   "outputs": [],
   "source": [
    "df.rename(columns = {'track_id_clean':'track_id'},inplace=True)"
   ]
  },
  {
   "cell_type": "code",
   "execution_count": 4,
   "metadata": {},
   "outputs": [],
   "source": [
    "main = pd.merge(df,feat)"
   ]
  },
  {
   "cell_type": "code",
   "execution_count": 5,
   "metadata": {},
   "outputs": [
    {
     "name": "stdout",
     "output_type": "stream",
     "text": [
      "Shape of the Dataset: (218586, 21)\n",
      "Shape of the combined datset: (81918, 50)\n"
     ]
    }
   ],
   "source": [
    "#Shape of the Datasets\n",
    "print('Shape of the Dataset:',df.shape)\n",
    "print('Shape of the combined datset:',main.shape)"
   ]
  },
  {
   "cell_type": "code",
   "execution_count": 6,
   "metadata": {},
   "outputs": [
    {
     "data": {
      "text/html": [
       "<div>\n",
       "<style scoped>\n",
       "    .dataframe tbody tr th:only-of-type {\n",
       "        vertical-align: middle;\n",
       "    }\n",
       "\n",
       "    .dataframe tbody tr th {\n",
       "        vertical-align: top;\n",
       "    }\n",
       "\n",
       "    .dataframe thead th {\n",
       "        text-align: right;\n",
       "    }\n",
       "</style>\n",
       "<table border=\"1\" class=\"dataframe\">\n",
       "  <thead>\n",
       "    <tr style=\"text-align: right;\">\n",
       "      <th></th>\n",
       "      <th>session_id</th>\n",
       "      <th>session_position</th>\n",
       "      <th>session_length</th>\n",
       "      <th>track_id</th>\n",
       "      <th>skip_1</th>\n",
       "      <th>skip_2</th>\n",
       "      <th>skip_3</th>\n",
       "      <th>not_skipped</th>\n",
       "      <th>context_switch</th>\n",
       "      <th>no_pause_before_play</th>\n",
       "      <th>...</th>\n",
       "      <th>time_signature</th>\n",
       "      <th>valence</th>\n",
       "      <th>acoustic_vector_0</th>\n",
       "      <th>acoustic_vector_1</th>\n",
       "      <th>acoustic_vector_2</th>\n",
       "      <th>acoustic_vector_3</th>\n",
       "      <th>acoustic_vector_4</th>\n",
       "      <th>acoustic_vector_5</th>\n",
       "      <th>acoustic_vector_6</th>\n",
       "      <th>acoustic_vector_7</th>\n",
       "    </tr>\n",
       "  </thead>\n",
       "  <tbody>\n",
       "    <tr>\n",
       "      <th>0</th>\n",
       "      <td>0_00006f66-33e5-4de7-a324-2d18e439fc1e</td>\n",
       "      <td>2.0</td>\n",
       "      <td>20.0</td>\n",
       "      <td>t_9099cd7b-c238-47b7-9381-f23f2c1d1043</td>\n",
       "      <td>False</td>\n",
       "      <td>False</td>\n",
       "      <td>False</td>\n",
       "      <td>True</td>\n",
       "      <td>0.0</td>\n",
       "      <td>1.0</td>\n",
       "      <td>...</td>\n",
       "      <td>4</td>\n",
       "      <td>0.337152</td>\n",
       "      <td>-0.713646</td>\n",
       "      <td>0.363718</td>\n",
       "      <td>0.310315</td>\n",
       "      <td>-0.042222</td>\n",
       "      <td>-0.383164</td>\n",
       "      <td>0.066357</td>\n",
       "      <td>-0.365308</td>\n",
       "      <td>0.15792</td>\n",
       "    </tr>\n",
       "    <tr>\n",
       "      <th>1</th>\n",
       "      <td>0_08d5b244-2076-4302-899e-d8adb67c9163</td>\n",
       "      <td>1.0</td>\n",
       "      <td>15.0</td>\n",
       "      <td>t_9099cd7b-c238-47b7-9381-f23f2c1d1043</td>\n",
       "      <td>True</td>\n",
       "      <td>True</td>\n",
       "      <td>True</td>\n",
       "      <td>False</td>\n",
       "      <td>0.0</td>\n",
       "      <td>0.0</td>\n",
       "      <td>...</td>\n",
       "      <td>4</td>\n",
       "      <td>0.337152</td>\n",
       "      <td>-0.713646</td>\n",
       "      <td>0.363718</td>\n",
       "      <td>0.310315</td>\n",
       "      <td>-0.042222</td>\n",
       "      <td>-0.383164</td>\n",
       "      <td>0.066357</td>\n",
       "      <td>-0.365308</td>\n",
       "      <td>0.15792</td>\n",
       "    </tr>\n",
       "    <tr>\n",
       "      <th>2</th>\n",
       "      <td>0_0b3dc098-93d3-47c1-8366-21e918dae6c0</td>\n",
       "      <td>4.0</td>\n",
       "      <td>20.0</td>\n",
       "      <td>t_9099cd7b-c238-47b7-9381-f23f2c1d1043</td>\n",
       "      <td>False</td>\n",
       "      <td>False</td>\n",
       "      <td>False</td>\n",
       "      <td>True</td>\n",
       "      <td>0.0</td>\n",
       "      <td>1.0</td>\n",
       "      <td>...</td>\n",
       "      <td>4</td>\n",
       "      <td>0.337152</td>\n",
       "      <td>-0.713646</td>\n",
       "      <td>0.363718</td>\n",
       "      <td>0.310315</td>\n",
       "      <td>-0.042222</td>\n",
       "      <td>-0.383164</td>\n",
       "      <td>0.066357</td>\n",
       "      <td>-0.365308</td>\n",
       "      <td>0.15792</td>\n",
       "    </tr>\n",
       "    <tr>\n",
       "      <th>3</th>\n",
       "      <td>0_0b3dc098-93d3-47c1-8366-21e918dae6c0</td>\n",
       "      <td>8.0</td>\n",
       "      <td>20.0</td>\n",
       "      <td>t_9099cd7b-c238-47b7-9381-f23f2c1d1043</td>\n",
       "      <td>True</td>\n",
       "      <td>True</td>\n",
       "      <td>True</td>\n",
       "      <td>False</td>\n",
       "      <td>0.0</td>\n",
       "      <td>1.0</td>\n",
       "      <td>...</td>\n",
       "      <td>4</td>\n",
       "      <td>0.337152</td>\n",
       "      <td>-0.713646</td>\n",
       "      <td>0.363718</td>\n",
       "      <td>0.310315</td>\n",
       "      <td>-0.042222</td>\n",
       "      <td>-0.383164</td>\n",
       "      <td>0.066357</td>\n",
       "      <td>-0.365308</td>\n",
       "      <td>0.15792</td>\n",
       "    </tr>\n",
       "    <tr>\n",
       "      <th>4</th>\n",
       "      <td>0_0b3dc098-93d3-47c1-8366-21e918dae6c0</td>\n",
       "      <td>10.0</td>\n",
       "      <td>20.0</td>\n",
       "      <td>t_9099cd7b-c238-47b7-9381-f23f2c1d1043</td>\n",
       "      <td>True</td>\n",
       "      <td>True</td>\n",
       "      <td>True</td>\n",
       "      <td>False</td>\n",
       "      <td>0.0</td>\n",
       "      <td>1.0</td>\n",
       "      <td>...</td>\n",
       "      <td>4</td>\n",
       "      <td>0.337152</td>\n",
       "      <td>-0.713646</td>\n",
       "      <td>0.363718</td>\n",
       "      <td>0.310315</td>\n",
       "      <td>-0.042222</td>\n",
       "      <td>-0.383164</td>\n",
       "      <td>0.066357</td>\n",
       "      <td>-0.365308</td>\n",
       "      <td>0.15792</td>\n",
       "    </tr>\n",
       "  </tbody>\n",
       "</table>\n",
       "<p>5 rows × 50 columns</p>\n",
       "</div>"
      ],
      "text/plain": [
       "                               session_id  session_position  session_length  \\\n",
       "0  0_00006f66-33e5-4de7-a324-2d18e439fc1e               2.0            20.0   \n",
       "1  0_08d5b244-2076-4302-899e-d8adb67c9163               1.0            15.0   \n",
       "2  0_0b3dc098-93d3-47c1-8366-21e918dae6c0               4.0            20.0   \n",
       "3  0_0b3dc098-93d3-47c1-8366-21e918dae6c0               8.0            20.0   \n",
       "4  0_0b3dc098-93d3-47c1-8366-21e918dae6c0              10.0            20.0   \n",
       "\n",
       "                                 track_id skip_1 skip_2 skip_3 not_skipped  \\\n",
       "0  t_9099cd7b-c238-47b7-9381-f23f2c1d1043  False  False  False        True   \n",
       "1  t_9099cd7b-c238-47b7-9381-f23f2c1d1043   True   True   True       False   \n",
       "2  t_9099cd7b-c238-47b7-9381-f23f2c1d1043  False  False  False        True   \n",
       "3  t_9099cd7b-c238-47b7-9381-f23f2c1d1043   True   True   True       False   \n",
       "4  t_9099cd7b-c238-47b7-9381-f23f2c1d1043   True   True   True       False   \n",
       "\n",
       "   context_switch  no_pause_before_play  ...  time_signature   valence  \\\n",
       "0             0.0                   1.0  ...               4  0.337152   \n",
       "1             0.0                   0.0  ...               4  0.337152   \n",
       "2             0.0                   1.0  ...               4  0.337152   \n",
       "3             0.0                   1.0  ...               4  0.337152   \n",
       "4             0.0                   1.0  ...               4  0.337152   \n",
       "\n",
       "   acoustic_vector_0  acoustic_vector_1 acoustic_vector_2  acoustic_vector_3  \\\n",
       "0          -0.713646           0.363718          0.310315          -0.042222   \n",
       "1          -0.713646           0.363718          0.310315          -0.042222   \n",
       "2          -0.713646           0.363718          0.310315          -0.042222   \n",
       "3          -0.713646           0.363718          0.310315          -0.042222   \n",
       "4          -0.713646           0.363718          0.310315          -0.042222   \n",
       "\n",
       "  acoustic_vector_4 acoustic_vector_5 acoustic_vector_6 acoustic_vector_7  \n",
       "0         -0.383164          0.066357         -0.365308           0.15792  \n",
       "1         -0.383164          0.066357         -0.365308           0.15792  \n",
       "2         -0.383164          0.066357         -0.365308           0.15792  \n",
       "3         -0.383164          0.066357         -0.365308           0.15792  \n",
       "4         -0.383164          0.066357         -0.365308           0.15792  \n",
       "\n",
       "[5 rows x 50 columns]"
      ]
     },
     "execution_count": 6,
     "metadata": {},
     "output_type": "execute_result"
    }
   ],
   "source": [
    "main.head(5)"
   ]
  },
  {
   "cell_type": "code",
   "execution_count": 7,
   "metadata": {},
   "outputs": [
    {
     "data": {
      "text/plain": [
       "session_id                         0\n",
       "session_position                   0\n",
       "session_length                     0\n",
       "track_id                           0\n",
       "skip_1                             0\n",
       "skip_2                             0\n",
       "skip_3                             0\n",
       "not_skipped                        0\n",
       "context_switch                     0\n",
       "no_pause_before_play               0\n",
       "short_pause_before_play            0\n",
       "long_pause_before_play             0\n",
       "hist_user_behavior_n_seekfwd       0\n",
       "hist_user_behavior_n_seekback      0\n",
       "hist_user_behavior_is_shuffle      0\n",
       "hour_of_day                        0\n",
       "date                               0\n",
       "premium                            0\n",
       "context_type                       0\n",
       "hist_user_behavior_reason_start    0\n",
       "hist_user_behavior_reason_end      0\n",
       "duration                           0\n",
       "release_year                       0\n",
       "us_popularity_estimate             0\n",
       "acousticness                       0\n",
       "beat_strength                      0\n",
       "bounciness                         0\n",
       "danceability                       0\n",
       "dyn_range_mean                     0\n",
       "energy                             0\n",
       "flatness                           0\n",
       "instrumentalness                   0\n",
       "key                                0\n",
       "liveness                           0\n",
       "loudness                           0\n",
       "mechanism                          0\n",
       "mode                               0\n",
       "organism                           0\n",
       "speechiness                        0\n",
       "tempo                              0\n",
       "time_signature                     0\n",
       "valence                            0\n",
       "acoustic_vector_0                  0\n",
       "acoustic_vector_1                  0\n",
       "acoustic_vector_2                  0\n",
       "acoustic_vector_3                  0\n",
       "acoustic_vector_4                  0\n",
       "acoustic_vector_5                  0\n",
       "acoustic_vector_6                  0\n",
       "acoustic_vector_7                  0\n",
       "dtype: int64"
      ]
     },
     "execution_count": 7,
     "metadata": {},
     "output_type": "execute_result"
    }
   ],
   "source": [
    "#Checking for null values\n",
    "main.isnull().sum()"
   ]
  },
  {
   "cell_type": "code",
   "execution_count": 8,
   "metadata": {},
   "outputs": [
    {
     "data": {
      "text/plain": [
       "Index(['session_id', 'session_position', 'session_length', 'track_id',\n",
       "       'skip_1', 'skip_2', 'skip_3', 'not_skipped', 'context_switch',\n",
       "       'no_pause_before_play', 'short_pause_before_play',\n",
       "       'long_pause_before_play', 'hist_user_behavior_n_seekfwd',\n",
       "       'hist_user_behavior_n_seekback', 'hist_user_behavior_is_shuffle',\n",
       "       'hour_of_day', 'date', 'premium', 'context_type',\n",
       "       'hist_user_behavior_reason_start', 'hist_user_behavior_reason_end',\n",
       "       'duration', 'release_year', 'us_popularity_estimate', 'acousticness',\n",
       "       'beat_strength', 'bounciness', 'danceability', 'dyn_range_mean',\n",
       "       'energy', 'flatness', 'instrumentalness', 'key', 'liveness', 'loudness',\n",
       "       'mechanism', 'mode', 'organism', 'speechiness', 'tempo',\n",
       "       'time_signature', 'valence', 'acoustic_vector_0', 'acoustic_vector_1',\n",
       "       'acoustic_vector_2', 'acoustic_vector_3', 'acoustic_vector_4',\n",
       "       'acoustic_vector_5', 'acoustic_vector_6', 'acoustic_vector_7'],\n",
       "      dtype='object')"
      ]
     },
     "execution_count": 8,
     "metadata": {},
     "output_type": "execute_result"
    }
   ],
   "source": [
    "main.columns"
   ]
  },
  {
   "cell_type": "code",
   "execution_count": 9,
   "metadata": {},
   "outputs": [
    {
     "data": {
      "text/plain": [
       "session_id                          object\n",
       "session_position                   float64\n",
       "session_length                     float64\n",
       "track_id                            object\n",
       "skip_1                              object\n",
       "skip_2                              object\n",
       "skip_3                              object\n",
       "not_skipped                         object\n",
       "context_switch                     float64\n",
       "no_pause_before_play               float64\n",
       "short_pause_before_play            float64\n",
       "long_pause_before_play             float64\n",
       "hist_user_behavior_n_seekfwd       float64\n",
       "hist_user_behavior_n_seekback      float64\n",
       "hist_user_behavior_is_shuffle       object\n",
       "hour_of_day                        float64\n",
       "date                                object\n",
       "premium                             object\n",
       "context_type                        object\n",
       "hist_user_behavior_reason_start     object\n",
       "hist_user_behavior_reason_end       object\n",
       "duration                           float64\n",
       "release_year                         int64\n",
       "us_popularity_estimate             float64\n",
       "acousticness                       float64\n",
       "beat_strength                      float64\n",
       "bounciness                         float64\n",
       "danceability                       float64\n",
       "dyn_range_mean                     float64\n",
       "energy                             float64\n",
       "flatness                           float64\n",
       "instrumentalness                   float64\n",
       "key                                  int64\n",
       "liveness                           float64\n",
       "loudness                           float64\n",
       "mechanism                          float64\n",
       "mode                                object\n",
       "organism                           float64\n",
       "speechiness                        float64\n",
       "tempo                              float64\n",
       "time_signature                       int64\n",
       "valence                            float64\n",
       "acoustic_vector_0                  float64\n",
       "acoustic_vector_1                  float64\n",
       "acoustic_vector_2                  float64\n",
       "acoustic_vector_3                  float64\n",
       "acoustic_vector_4                  float64\n",
       "acoustic_vector_5                  float64\n",
       "acoustic_vector_6                  float64\n",
       "acoustic_vector_7                  float64\n",
       "dtype: object"
      ]
     },
     "execution_count": 9,
     "metadata": {},
     "output_type": "execute_result"
    }
   ],
   "source": [
    "#Checking the data types in the Dataset\n",
    "main.dtypes"
   ]
  },
  {
   "cell_type": "code",
   "execution_count": 10,
   "metadata": {},
   "outputs": [
    {
     "name": "stdout",
     "output_type": "stream",
     "text": [
      "Number of unique categories in session_id : 9971\n",
      "Number of unique categories in track_id : 25313\n",
      "Number of unique categories in date : 18\n",
      "Number of unique categories in premium : 2\n",
      "Number of unique categories in context_type : 6\n",
      "Number of unique categories in hist_user_behavior_reason_start : 9\n",
      "Number of unique categories in hist_user_behavior_reason_end : 7\n",
      "Number of unique categories in hist_user_behavior_is_shuffle : 2\n",
      "Number of unique categories in mode : 2\n"
     ]
    }
   ],
   "source": [
    "#Checking the unique values in the categorical features\n",
    "print('Number of unique categories in session_id :',main['session_id'].nunique())\n",
    "print('Number of unique categories in track_id :',main['track_id'].nunique())\n",
    "print('Number of unique categories in date :',main['date'].nunique())\n",
    "print('Number of unique categories in premium :',main['premium'].nunique())\n",
    "print('Number of unique categories in context_type :',main['context_type'].nunique())\n",
    "print('Number of unique categories in hist_user_behavior_reason_start :',main['hist_user_behavior_reason_start'].nunique())\n",
    "print('Number of unique categories in hist_user_behavior_reason_end :',main['hist_user_behavior_reason_end'].nunique())\n",
    "print('Number of unique categories in hist_user_behavior_is_shuffle :',main['hist_user_behavior_is_shuffle'].nunique())\n",
    "print('Number of unique categories in mode :',main['mode'].nunique())"
   ]
  },
  {
   "cell_type": "markdown",
   "metadata": {},
   "source": [
    "From above we get that data,session_id,track_id has to many categorical data so we can opt to drop them for the further analysis and modelling"
   ]
  },
  {
   "cell_type": "code",
   "execution_count": 11,
   "metadata": {},
   "outputs": [],
   "source": [
    "#Droping the features which wont be useful for further analysis\n",
    "main.drop(['session_id','track_id','date','skip_1','skip_2','skip_3'],axis=1,inplace=True)"
   ]
  },
  {
   "cell_type": "code",
   "execution_count": 12,
   "metadata": {},
   "outputs": [],
   "source": [
    "#Categorical data encoding\n",
    "from sklearn.preprocessing import LabelEncoder\n",
    "le = LabelEncoder()\n",
    "notskipped = le.fit_transform(main['not_skipped'])\n",
    "premium = le.fit_transform(main['premium'])\n",
    "contexttype = le.fit_transform(main['context_type'])\n",
    "histstart = le.fit_transform(main['hist_user_behavior_reason_start'])\n",
    "histend = le.fit_transform(main['hist_user_behavior_reason_end'])\n",
    "shuffle = le.fit_transform(main['hist_user_behavior_is_shuffle'])\n",
    "mode = le.fit_transform(main['mode'])\n",
    "\n",
    "#Dropping the encoded features\n",
    "main.drop(['not_skipped','premium','context_type','hist_user_behavior_reason_start','hist_user_behavior_reason_end','hist_user_behavior_is_shuffle','mode'],axis = 1,inplace=True)\n",
    "\n",
    "#Covetring arrays to Series\n",
    "premium = pd.Series(premium,name='premium')\n",
    "contexttype = pd.Series(contexttype,name='context_type')\n",
    "histstart = pd.Series(histstart,name='hist_user_behavior_reason_start')\n",
    "histend = pd.Series(histend,name='hist_user_behavior_reason_end')\n",
    "notskipped = pd.Series(notskipped,name='not_skipped')\n",
    "shuffle = pd.Series(shuffle,name='hist_user_behavior_is_shuffle')\n",
    "mode = pd.Series(mode,name='mode')\n",
    "\n",
    "#Concating the dataframe and the encoded data\n",
    "main = pd.concat([main,premium,contexttype,histstart,histend,shuffle,mode,notskipped],axis=1)"
   ]
  },
  {
   "cell_type": "code",
   "execution_count": 13,
   "metadata": {},
   "outputs": [],
   "source": [
    "from sklearn.model_selection import train_test_split"
   ]
  },
  {
   "cell_type": "code",
   "execution_count": 14,
   "metadata": {},
   "outputs": [],
   "source": [
    "X = main.drop(['not_skipped'],axis=1) \n",
    "y =main['not_skipped']\n",
    "X_train, X_test, y_train, y_test = train_test_split(X, y, test_size=0.25, random_state=101)"
   ]
  },
  {
   "cell_type": "code",
   "execution_count": 15,
   "metadata": {},
   "outputs": [],
   "source": [
    "from sklearn.preprocessing import StandardScaler\n",
    "sc = StandardScaler()\n",
    "X_train=sc.fit_transform(X_train)\n",
    "X_test=sc.fit_transform(X_test)"
   ]
  },
  {
   "cell_type": "code",
   "execution_count": 16,
   "metadata": {},
   "outputs": [],
   "source": [
    "from sklearn.ensemble import RandomForestClassifier\n",
    "rfc = RandomForestClassifier()\n",
    "rfc.fit(X_train,y_train)\n",
    "predictrfc = rfc.predict(X_test)"
   ]
  },
  {
   "cell_type": "code",
   "execution_count": 17,
   "metadata": {},
   "outputs": [
    {
     "name": "stdout",
     "output_type": "stream",
     "text": [
      "Feature ranking:\n",
      "1. feature 40 (0.742721)\n",
      "2. feature 39 (0.110692)\n",
      "3. feature 4 (0.011030)\n",
      "4. feature 6 (0.010507)\n",
      "5. feature 0 (0.007570)\n",
      "6. feature 7 (0.006572)\n",
      "7. feature 5 (0.006490)\n",
      "8. feature 3 (0.006370)\n",
      "9. feature 8 (0.005787)\n",
      "10. feature 1 (0.004569)\n",
      "11. feature 9 (0.004062)\n",
      "12. feature 11 (0.003963)\n",
      "13. feature 38 (0.003380)\n",
      "14. feature 35 (0.003233)\n",
      "15. feature 12 (0.003212)\n",
      "16. feature 36 (0.003201)\n",
      "17. feature 25 (0.003099)\n",
      "18. feature 22 (0.003051)\n",
      "19. feature 28 (0.003026)\n",
      "20. feature 30 (0.003017)\n",
      "21. feature 31 (0.003003)\n",
      "22. feature 18 (0.002992)\n",
      "23. feature 33 (0.002959)\n",
      "24. feature 21 (0.002945)\n",
      "25. feature 29 (0.002925)\n",
      "26. feature 34 (0.002924)\n",
      "27. feature 26 (0.002841)\n",
      "28. feature 32 (0.002839)\n",
      "29. feature 24 (0.002820)\n",
      "30. feature 17 (0.002813)\n",
      "31. feature 23 (0.002799)\n",
      "32. feature 15 (0.002775)\n",
      "33. feature 13 (0.002707)\n",
      "34. feature 16 (0.002678)\n",
      "35. feature 14 (0.002588)\n",
      "36. feature 10 (0.002561)\n",
      "37. feature 2 (0.002381)\n",
      "38. feature 19 (0.001937)\n",
      "39. feature 20 (0.001638)\n",
      "40. feature 37 (0.001306)\n",
      "41. feature 41 (0.001268)\n",
      "42. feature 42 (0.000382)\n",
      "43. feature 27 (0.000360)\n"
     ]
    }
   ],
   "source": [
    "importances = rfc.feature_importances_\n",
    "std = np.std([tree.feature_importances_ for tree in rfc.estimators_],\n",
    "             axis=0)\n",
    "indices = np.argsort(importances)[::-1]\n",
    "\n",
    "# Print the feature ranking\n",
    "print(\"Feature ranking:\")\n",
    "\n",
    "for f in range(X_test.shape[1]):\n",
    "    print(\"%d. feature %d (%f)\" % (f + 1, indices[f],  importances[indices[f]]))\n"
   ]
  },
  {
   "cell_type": "code",
   "execution_count": 18,
   "metadata": {},
   "outputs": [
    {
     "name": "stdout",
     "output_type": "stream",
     "text": [
      "[[13455   150]\n",
      " [   75  6800]]\n",
      "\n",
      "\n",
      "              precision    recall  f1-score   support\n",
      "\n",
      "           0       0.99      0.99      0.99     13605\n",
      "           1       0.98      0.99      0.98      6875\n",
      "\n",
      "    accuracy                           0.99     20480\n",
      "   macro avg       0.99      0.99      0.99     20480\n",
      "weighted avg       0.99      0.99      0.99     20480\n",
      "\n"
     ]
    }
   ],
   "source": [
    "from sklearn.metrics import classification_report,confusion_matrix\n",
    "print(confusion_matrix(y_test,predictrfc))\n",
    "print('\\n')\n",
    "print(classification_report(y_test,predictrfc))"
   ]
  },
  {
   "cell_type": "code",
   "execution_count": 19,
   "metadata": {},
   "outputs": [
    {
     "name": "stdout",
     "output_type": "stream",
     "text": [
      "Accuracy: 98.92 %\n",
      "Standard Deviation: 0.08 %\n"
     ]
    }
   ],
   "source": [
    "from sklearn.model_selection import cross_val_score\n",
    "accuracies = cross_val_score(estimator = rfc, X = X_train, y = y_train, cv = 10)\n",
    "print(\"Accuracy: {:.2f} %\".format(accuracies.mean()*100))\n",
    "print(\"Standard Deviation: {:.2f} %\".format(accuracies.std()*100))"
   ]
  },
  {
   "cell_type": "code",
   "execution_count": 20,
   "metadata": {},
   "outputs": [],
   "source": [
    "from sklearn.svm import SVC\n",
    "svc = SVC(kernel = 'rbf', random_state = 0)\n",
    "svc.fit(X_train, y_train)\n",
    "predictsvc = svc.predict(X_test)"
   ]
  },
  {
   "cell_type": "code",
   "execution_count": 21,
   "metadata": {},
   "outputs": [
    {
     "name": "stdout",
     "output_type": "stream",
     "text": [
      "[[13455   150]\n",
      " [   75  6800]]\n",
      "\n",
      "\n",
      "              precision    recall  f1-score   support\n",
      "\n",
      "           0       1.00      0.99      0.99     13605\n",
      "           1       0.97      0.99      0.98      6875\n",
      "\n",
      "    accuracy                           0.99     20480\n",
      "   macro avg       0.98      0.99      0.99     20480\n",
      "weighted avg       0.99      0.99      0.99     20480\n",
      "\n"
     ]
    }
   ],
   "source": [
    "print(confusion_matrix(y_test,predictrfc))\n",
    "print('\\n')\n",
    "print(classification_report(y_test,predictsvc))"
   ]
  },
  {
   "cell_type": "code",
   "execution_count": 22,
   "metadata": {},
   "outputs": [
    {
     "name": "stdout",
     "output_type": "stream",
     "text": [
      "Accuracy: 98.70 %\n",
      "Standard Deviation: 0.13 %\n"
     ]
    }
   ],
   "source": [
    "from sklearn.model_selection import cross_val_score\n",
    "accuracies = cross_val_score(estimator = svc, X = X_train, y = y_train, cv = 10)\n",
    "print(\"Accuracy: {:.2f} %\".format(accuracies.mean()*100))\n",
    "print(\"Standard Deviation: {:.2f} %\".format(accuracies.std()*100))"
   ]
  },
  {
   "cell_type": "code",
   "execution_count": null,
   "metadata": {},
   "outputs": [],
   "source": []
  }
 ],
 "metadata": {
  "kernelspec": {
   "display_name": "Python 3",
   "language": "python",
   "name": "python3"
  },
  "language_info": {
   "codemirror_mode": {
    "name": "ipython",
    "version": 3
   },
   "file_extension": ".py",
   "mimetype": "text/x-python",
   "name": "python",
   "nbconvert_exporter": "python",
   "pygments_lexer": "ipython3",
   "version": "3.8.3"
  }
 },
 "nbformat": 4,
 "nbformat_minor": 4
}
